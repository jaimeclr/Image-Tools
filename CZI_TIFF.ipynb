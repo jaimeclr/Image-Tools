{
  "nbformat": 4,
  "nbformat_minor": 0,
  "metadata": {
    "colab": {
      "provenance": [],
      "mount_file_id": "1USUMN-lXc_xpDR1LtY4rJICanvQGzxEf",
      "authorship_tag": "ABX9TyMbGFArM5oHebkMRW7haJSB",
      "include_colab_link": true
    },
    "kernelspec": {
      "name": "python3",
      "display_name": "Python 3"
    },
    "language_info": {
      "name": "python"
    }
  },
  "cells": [
    {
      "cell_type": "markdown",
      "metadata": {
        "id": "view-in-github",
        "colab_type": "text"
      },
      "source": [
        "<a href=\"https://colab.research.google.com/github/jaimeclr/Image-Tools/blob/main/CZI_TIFF.ipynb\" target=\"_parent\"><img src=\"https://colab.research.google.com/assets/colab-badge.svg\" alt=\"Open In Colab\"/></a>"
      ]
    },
    {
      "cell_type": "code",
      "execution_count": null,
      "metadata": {
        "colab": {
          "base_uri": "https://localhost:8080/"
        },
        "id": "EdXLifZJbHYf",
        "outputId": "3c7fb37c-f50b-4476-b2d8-f58e2855911a"
      },
      "outputs": [
        {
          "output_type": "stream",
          "name": "stdout",
          "text": [
            "Collecting czifile\n",
            "  Downloading czifile-2019.7.2.1-py3-none-any.whl.metadata (5.6 kB)\n",
            "Requirement already satisfied: numpy>=1.11.3 in /usr/local/lib/python3.11/dist-packages (from czifile) (2.0.2)\n",
            "Requirement already satisfied: tifffile>=2019.7.2 in /usr/local/lib/python3.11/dist-packages (from czifile) (2025.6.11)\n",
            "Downloading czifile-2019.7.2.1-py3-none-any.whl (18 kB)\n",
            "Installing collected packages: czifile\n",
            "Successfully installed czifile-2019.7.2.1\n"
          ]
        }
      ],
      "source": [
        "pip install czifile"
      ]
    },
    {
      "cell_type": "code",
      "source": [
        "pip install tifffile"
      ],
      "metadata": {
        "colab": {
          "base_uri": "https://localhost:8080/"
        },
        "id": "YrSVMNYcbetD",
        "outputId": "08c2a1bd-d1d0-437a-d8f2-05ec8a1de381"
      },
      "execution_count": null,
      "outputs": [
        {
          "output_type": "stream",
          "name": "stdout",
          "text": [
            "Requirement already satisfied: tifffile in /usr/local/lib/python3.11/dist-packages (2025.6.11)\n",
            "Requirement already satisfied: numpy in /usr/local/lib/python3.11/dist-packages (from tifffile) (2.0.2)\n"
          ]
        }
      ]
    },
    {
      "cell_type": "markdown",
      "source": [
        "Explore your files in the folder"
      ],
      "metadata": {
        "id": "tks45wF2_PZB"
      }
    },
    {
      "cell_type": "code",
      "source": [
        "# Replace 'folder_path' with the path of the folder you want to list the files for\n",
        "folder_path = 'folder_path'"
      ],
      "metadata": {
        "id": "62vm1Nbt_U-c"
      },
      "execution_count": null,
      "outputs": []
    },
    {
      "cell_type": "code",
      "source": [
        "import os\n",
        "\n",
        "def list_files_in_folder(folder_path):\n",
        "    if os.path.exists(folder_path) and os.path.isdir(folder_path):\n",
        "        files_list = os.listdir(folder_path)\n",
        "        return files_list\n",
        "    else:\n",
        "        return \"Folder path doesn't exist or is not a directory.\"\n",
        "\n",
        "files = list_files_in_folder(folder_path)\n",
        "if isinstance(files, list):\n",
        "    print(\"Files in the folder:\")\n",
        "    for file in files:\n",
        "        print(file)\n",
        "else:\n",
        "    print(files)"
      ],
      "metadata": {
        "id": "Nvd-ExwfcaNw"
      },
      "execution_count": null,
      "outputs": []
    },
    {
      "cell_type": "markdown",
      "source": [
        "Know how many files will you proccess and store in a new folder named TIFF"
      ],
      "metadata": {
        "id": "V0lCxVb3_ng8"
      }
    },
    {
      "cell_type": "code",
      "source": [
        "len(files)"
      ],
      "metadata": {
        "colab": {
          "base_uri": "https://localhost:8080/"
        },
        "id": "noGbq8D4NuMD",
        "outputId": "c7d21f01-4ad1-44ae-9226-88c48b89b4c3"
      },
      "execution_count": null,
      "outputs": [
        {
          "output_type": "execute_result",
          "data": {
            "text/plain": [
              "140"
            ]
          },
          "metadata": {},
          "execution_count": 4
        }
      ]
    },
    {
      "cell_type": "code",
      "source": [
        "import czifile\n",
        "from tifffile import imwrite\n",
        "\n",
        "def convert_czi_to_tiff(input_file, output_file):\n",
        "    try:\n",
        "        # Load the CZI file\n",
        "        czi_data = czifile.imread(input_file)\n",
        "\n",
        "        # Save as TIFF\n",
        "        imwrite(output_file, czi_data)\n",
        "\n",
        "        print(f\"Conversion successful: {input_file} converted to {output_file}\")\n",
        "    except Exception as e:\n",
        "        print(f\"Conversion failed: {e}\")"
      ],
      "metadata": {
        "id": "1Y650nMdbc9L"
      },
      "execution_count": null,
      "outputs": []
    },
    {
      "cell_type": "code",
      "source": [
        "import os\n",
        "\n",
        "def create_folder(path, folder_name):\n",
        "    # Combine the path and folder name to get the full path of the new folder\n",
        "    new_folder_path = os.path.join(path, folder_name)\n",
        "\n",
        "    # Check if the folder already exists\n",
        "    if not os.path.exists(new_folder_path):\n",
        "        # Create the new folder\n",
        "        os.makedirs(new_folder_path)\n",
        "        print(f\"Folder '{folder_name}' created at '{path}'.\")\n",
        "    else:\n",
        "        print(f\"Folder '{folder_name}' already exists at '{path}'.\")\n",
        "\n",
        "# Example usage\n",
        "create_folder(folder_path, 'TIFF')"
      ],
      "metadata": {
        "id": "oIWqRuQUP3uC"
      },
      "execution_count": null,
      "outputs": []
    },
    {
      "cell_type": "code",
      "source": [
        "for i in files:\n",
        "  ruta_in=folder_path+'/'+i\n",
        "  print(ruta_in)\n",
        "  ruta_out=folder_path+'/TIFF/'+i[:-3]+'tif'\n",
        "  print(ruta_out)\n",
        "\n",
        "  # Replace 'input_file.czi' with the path to your .czi file\n",
        "  input_czi_file = ruta_in\n",
        "\n",
        "  # Replace 'output_file.tif' with the desired path and name for the output TIFF file\n",
        "  output_tiff_file = ruta_out\n",
        "\n",
        "  # Convert .czi to .tiff\n",
        "  convert_czi_to_tiff(input_czi_file, output_tiff_file)\n"
      ],
      "metadata": {
        "id": "SVGETxDrc_N4"
      },
      "execution_count": null,
      "outputs": []
    }
  ]
}